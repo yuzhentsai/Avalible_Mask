{
  "nbformat": 4,
  "nbformat_minor": 0,
  "metadata": {
    "colab": {
      "provenance": [],
      "authorship_tag": "ABX9TyOjxnbMNdZYBqnMonr3TX2k",
      "include_colab_link": true
    },
    "kernelspec": {
      "name": "python3",
      "display_name": "Python 3"
    },
    "language_info": {
      "name": "python"
    }
  },
  "cells": [
    {
      "cell_type": "markdown",
      "metadata": {
        "id": "view-in-github",
        "colab_type": "text"
      },
      "source": [
        "<a href=\"https://colab.research.google.com/github/yuzhentsai/Avalible_Mask/blob/main/available_mask.ipynb\" target=\"_parent\"><img src=\"https://colab.research.google.com/assets/colab-badge.svg\" alt=\"Open In Colab\"/></a>"
      ]
    },
    {
      "cell_type": "code",
      "execution_count": 44,
      "metadata": {
        "id": "cXM_NI7zhFoq"
      },
      "outputs": [],
      "source": [
        "import requests\n",
        "import json\n",
        "import sqlite3\n",
        "import datetime"
      ]
    },
    {
      "cell_type": "markdown",
      "source": [
        "利用 requests 對 API 來源發送一個請求"
      ],
      "metadata": {
        "id": "lyRCobo1hPXo"
      }
    },
    {
      "cell_type": "code",
      "source": [
        "url = 'https://raw.githubusercontent.com/kiang/pharmacies/master/json/points.json'\n",
        "response = requests.get(url)"
      ],
      "metadata": {
        "id": "_dJDbIrthSjn"
      },
      "execution_count": 45,
      "outputs": []
    },
    {
      "cell_type": "markdown",
      "source": [
        "將請求回應的內容存成一個字串格式"
      ],
      "metadata": {
        "id": "VATi4fRrh2Jo"
      }
    },
    {
      "cell_type": "code",
      "source": [
        "data = response.text"
      ],
      "metadata": {
        "id": "QRAfo-Vkh4lQ"
      },
      "execution_count": 46,
      "outputs": []
    },
    {
      "cell_type": "markdown",
      "source": [
        "將長得像 json 格式的字串解析成字典或列表"
      ],
      "metadata": {
        "id": "oIYLqKlEiH6Y"
      }
    },
    {
      "cell_type": "code",
      "source": [
        "raw_data = json.loads(data)\n",
        "#print(raw_data)\n",
        "Mask_db = sqlite3.connect(\"Mask_ava.db\")\n",
        "M = Mask_db.cursor()"
      ],
      "metadata": {
        "id": "cDAdggSiiJvH"
      },
      "execution_count": 47,
      "outputs": []
    },
    {
      "cell_type": "code",
      "source": [
        "# 新增且清空資料表 藥局\n",
        "M.execute('''CREATE TABLE IF NOT EXISTS pharmacies\n",
        "             (city text, counts text, createdAt datetime)''')\n",
        "M.execute('''DELETE FROM pharmacies''')\n",
        "Mask_db.commit()"
      ],
      "metadata": {
        "id": "J4JNkeduAxTg"
      },
      "execution_count": 48,
      "outputs": []
    },
    {
      "cell_type": "code",
      "source": [
        "med_amount = {}"
      ],
      "metadata": {
        "id": "X98aGjv6jWDV"
      },
      "execution_count": 49,
      "outputs": []
    },
    {
      "cell_type": "markdown",
      "source": [
        "計算各地區的藥局數量"
      ],
      "metadata": {
        "id": "czLAkZO4lBMR"
      }
    },
    {
      "cell_type": "code",
      "source": [
        "# 填入欄位名稱\n",
        "for data in raw_data[\"features\"]:\n",
        "    county = data[\"properties\"][\"county\"]\n",
        "    if not county :\n",
        "      continue\n",
        "    elif county not in med_amount:\n",
        "         med_amount[county] = 0\n",
        "    else:\n",
        "      med_amount[county]+=1\n",
        "#print(med_amount)"
      ],
      "metadata": {
        "id": "2DaQlZ8ljZSK"
      },
      "execution_count": 50,
      "outputs": []
    },
    {
      "cell_type": "code",
      "source": [
        "for key, value in med_amount.items():\n",
        "    t = datetime.datetime.now()\n",
        "    #print(f\"INSERT INTO pharmacies VALUES ('{key}', '{value}', '{t}')\")\n",
        "    M.execute(f\"INSERT INTO pharmacies VALUES ('{key}', '{value}', '{t}')\")\n",
        "    Mask_db.commit()\n",
        "\n",
        "print('Number of pharmacies in each county:')\n",
        "#print('\\n'.join([f'{key}: {value}' for key, value in med_amount.items()]))\n",
        "M.execute('SELECT * FROM pharmacies')\n",
        "print('\\n'.join([str(row) for row in M.fetchall()]))\n"
      ],
      "metadata": {
        "colab": {
          "base_uri": "https://localhost:8080/"
        },
        "id": "a49Lk0R-_rU7",
        "outputId": "0e651898-88a6-44bd-8c88-750c3b442a51"
      },
      "execution_count": 51,
      "outputs": [
        {
          "output_type": "stream",
          "name": "stdout",
          "text": [
            "Number of pharmacies in each county:\n",
            "('臺北市', '338', '2024-08-21 22:33:28.958093')\n",
            "('高雄市', '421', '2024-08-21 22:33:28.968392')\n",
            "('臺中市', '419', '2024-08-21 22:33:28.977421')\n",
            "('臺南市', '270', '2024-08-21 22:33:28.985797')\n",
            "('基隆市', '56', '2024-08-21 22:33:28.994406')\n",
            "('新竹市', '38', '2024-08-21 22:33:29.002922')\n",
            "('嘉義市', '66', '2024-08-21 22:33:29.011919')\n",
            "('新北市', '500', '2024-08-21 22:33:29.021754')\n",
            "('桃園市', '263', '2024-08-21 22:33:29.030843')\n",
            "('新竹縣', '45', '2024-08-21 22:33:29.040445')\n",
            "('宜蘭縣', '75', '2024-08-21 22:33:29.049125')\n",
            "('苗栗縣', '55', '2024-08-21 22:33:29.058147')\n",
            "('彰化縣', '178', '2024-08-21 22:33:29.066757')\n",
            "('南投縣', '66', '2024-08-21 22:33:29.075778')\n",
            "('雲林縣', '128', '2024-08-21 22:33:29.085422')\n",
            "('嘉義縣', '83', '2024-08-21 22:33:29.094517')\n",
            "('屏東縣', '139', '2024-08-21 22:33:29.103238')\n",
            "('澎湖縣', '10', '2024-08-21 22:33:29.112487')\n",
            "('花蓮縣', '45', '2024-08-21 22:33:29.121943')\n",
            "('臺東縣', '22', '2024-08-21 22:33:29.131158')\n",
            "('金門縣', '5', '2024-08-21 22:33:29.141492')\n",
            "('連江縣', '0', '2024-08-21 22:33:29.150767')\n"
          ]
        }
      ]
    },
    {
      "cell_type": "code",
      "source": [
        "#新增且清空資料表 口罩\n",
        "M.execute('''CREATE TABLE IF NOT EXISTS masks\n",
        "        (city text, counts text, createdAt datetime)''')\n",
        "M.execute('DELETE FROM masks')\n",
        "Mask_db.commit()\n",
        "mask_amount = {}"
      ],
      "metadata": {
        "id": "q8p8I7lQDyvl"
      },
      "execution_count": 52,
      "outputs": []
    },
    {
      "cell_type": "code",
      "source": [
        "# 填入欄位名稱\n",
        "for data in raw_data[\"features\"]:\n",
        "    county = data[\"properties\"][\"county\"]\n",
        "    mask_adult = data[\"properties\"][\"mask_adult\"]\n",
        "    if county == \"\":\n",
        "      continue\n",
        "    elif county not in mask_amount:\n",
        "         mask_amount[county] = 0\n",
        "    else:\n",
        "      mask_amount[county]+=mask_adult\n",
        "\n",
        "# 將結果從大到小排列\n",
        "mask_amount = dict(sorted(mask_amount.items(), key=lambda item: item[1],reverse=True))\n",
        "\n",
        "#print(mask_amount)"
      ],
      "metadata": {
        "id": "JE0uZvjXDz2P"
      },
      "execution_count": 53,
      "outputs": []
    },
    {
      "cell_type": "code",
      "source": [
        "for key, value in mask_amount.items():\n",
        "    t = datetime.datetime.now()\n",
        "    M.execute(f'INSERT INTO masks VALUES (?, ?, ?)', (key, value, t))\n",
        "    Mask_db.commit()\n",
        "\n",
        "print('\\nNumber of adult masks (descending order) in each county:')\n",
        "#print('\\n'.join([f'{key}: {value}' for key, value in mask_amount.items()]))\n",
        "M.execute('SELECT * FROM masks')\n",
        "print('\\n'.join([str(row) for row in M.fetchall()]))\n",
        "\n",
        "Mask_db.commit()\n",
        "Mask_db.close()"
      ],
      "metadata": {
        "colab": {
          "base_uri": "https://localhost:8080/"
        },
        "id": "a8y6zptJD3Vv",
        "outputId": "7e8c8d4b-be3c-4cc2-9a38-af781ca12d20"
      },
      "execution_count": 54,
      "outputs": [
        {
          "output_type": "stream",
          "name": "stdout",
          "text": [
            "\n",
            "Number of adult masks (descending order) in each county:\n",
            "('新北市', '670150', '2024-08-21 22:33:30.444466')\n",
            "('臺中市', '535430', '2024-08-21 22:33:30.455157')\n",
            "('高雄市', '424170', '2024-08-21 22:33:30.464594')\n",
            "('臺南市', '392430', '2024-08-21 22:33:30.474535')\n",
            "('桃園市', '330010', '2024-08-21 22:33:30.484453')\n",
            "('臺北市', '322490', '2024-08-21 22:33:30.493603')\n",
            "('彰化縣', '218090', '2024-08-21 22:33:30.503491')\n",
            "('雲林縣', '195540', '2024-08-21 22:33:30.512790')\n",
            "('屏東縣', '181480', '2024-08-21 22:33:30.521658')\n",
            "('苗栗縣', '119500', '2024-08-21 22:33:30.531145')\n",
            "('嘉義縣', '112190', '2024-08-21 22:33:30.542677')\n",
            "('嘉義市', '105870', '2024-08-21 22:33:30.554315')\n",
            "('宜蘭縣', '105830', '2024-08-21 22:33:30.563650')\n",
            "('南投縣', '81680', '2024-08-21 22:33:30.574352')\n",
            "('基隆市', '79840', '2024-08-21 22:33:30.585548')\n",
            "('花蓮縣', '56570', '2024-08-21 22:33:30.595956')\n",
            "('新竹縣', '51280', '2024-08-21 22:33:30.606602')\n",
            "('新竹市', '45630', '2024-08-21 22:33:30.615178')\n",
            "('臺東縣', '27720', '2024-08-21 22:33:30.624481')\n",
            "('金門縣', '15510', '2024-08-21 22:33:30.633901')\n",
            "('澎湖縣', '11350', '2024-08-21 22:33:30.643450')\n",
            "('連江縣', '0', '2024-08-21 22:33:30.653361')\n"
          ]
        }
      ]
    },
    {
      "cell_type": "code",
      "source": [],
      "metadata": {
        "id": "avwFfdoDEngE"
      },
      "execution_count": null,
      "outputs": []
    }
  ]
}